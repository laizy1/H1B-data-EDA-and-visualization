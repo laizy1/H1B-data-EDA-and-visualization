{
 "cells": [
  {
   "cell_type": "code",
   "execution_count": null,
   "metadata": {},
   "outputs": [],
   "source": [
    "# importing all the neccesary libraries\n",
    "import pandas as pd\n",
    "from pandasql import sqldf\n",
    "from plotly.offline import plot\n",
    "import plotly.graph_objs as go"
   ]
  },
  {
   "cell_type": "code",
   "execution_count": null,
   "metadata": {},
   "outputs": [],
   "source": [
    "data = pd.read_excel (\"hb.xlsx\")\n",
    "pysqldf = lambda q: sqldf(q, globals()) # a function to help use sql querries"
   ]
  },
  {
   "cell_type": "code",
   "execution_count": null,
   "metadata": {},
   "outputs": [],
   "source": [
    "# new data is created from the big data to the average wages of employees froma all the satats\n",
    "# receiving wages grater than $60 000\n",
    "newdata = pysqldf(\"select round(avg(prevailing_wage), 2) as apw, worksite_state as site_state from data where pw_source_year=2016 group by worksite_state having avg(prevailing_wage) > 60000;\")"
   ]
  },
  {
   "cell_type": "code",
   "execution_count": null,
   "metadata": {},
   "outputs": [],
   "source": [
    "# a bar graph to show the average prevailing wage in all state greater than $60,000\n",
    "fig = go.Figure([go.Bar(\n",
    "    x = newdata['site_state'], \n",
    "    y = newdata['apw'])])\n",
    "  \n",
    "#data=go.Data([trace]) \n",
    "#layout=go.Layout(title=\"average prevailing wage per state in 2016\",\n",
    "  #xaxis={'title':'worksite_state'},  \n",
    " # yaxis={'title':'average prevailing wage'})  \n",
    "\n",
    "figure=go.Figure(data=data,layout=layout)\n",
    "plot(figure)"
   ]
  },
  {
   "cell_type": "code",
   "execution_count": null,
   "metadata": {},
   "outputs": [],
   "source": [
    "# a scatter bubble map to show employees of the various states receiving salary greater than $60 000\n",
    "fig = go.Figure(data=go.Scattergeo(\n",
    "        locationmode = 'USA-states',\n",
    "        locations = newdata['site_state'],\n",
    "        marker = dict(\n",
    "            size = newdata['apw']/3000,\n",
    "            opacity = 0.8,\n",
    "            reversescale = True,\n",
    "            autocolorscale = False,\n",
    "            symbol = 'circle',\n",
    "            line = dict(\n",
    "                width = 1,\n",
    "                color='rgba(102, 102, 102)'\n",
    "            ),\n",
    "            colorscale = 'Blues',\n",
    "            cmin = 0,\n",
    "            color = newdata['apw'],\n",
    "            colorbar_title=\"Wages > $60000\"\n",
    "),\n",
    "        text = newdata['apw']\n",
    "))\n",
    "\n",
    "fig.update_layout(title = \"Employees receiving greater than $60000 in various states in 2016\",\n",
    "                   geo = dict(\n",
    "                       scope='usa', \n",
    "                       projection_type='albers usa',\n",
    "                       showcountries = False,\n",
    "                       landcolor = \"rgb(150, 220, 250)\",\n",
    "                       #subunitcolor = \"rgb(217, 217, 217)\",\n",
    "                       #countrycolor = \"rgb(100, 217, 217)\",\n",
    "                       #countrywidth = 0.5,\n",
    "                       #subunitwidth = 0.5\n",
    "                        ),\n",
    "                  )\n",
    "plot(fig)"
   ]
  },
  {
   "cell_type": "code",
   "execution_count": null,
   "metadata": {},
   "outputs": [],
   "source": [
    "# a choropleth to show employees of the various states receiving salary greater than $60 000\n",
    "data = dict(type='choropleth',\n",
    "            locations=newdata['site_state'],\n",
    "            locationmode='USA-states',\n",
    "            text=newdata['site_state'],\n",
    "            z=newdata['apw'],\n",
    "            colorscale='Reds',\n",
    "            autocolorscale=False,\n",
    "            #text = newdata['apw'], # hover text\n",
    "            marker_line_color='white', # line markers between states\n",
    "            colorbar_title=\"THOUSANDS USD\"\n",
    "            ) \n",
    "\n",
    "layout = dict(\n",
    "    title=\"states paying more than $60,000 in 2016\",\n",
    "    geo = dict(scope='usa',\n",
    "               showlakes= True,\n",
    "               projection=go.layout.geo.Projection(type = 'albers usa'),\n",
    "               lakecolor='rgb(150, 200, 255)')\n",
    "              )\n",
    "\n",
    "figure= go.Figure(data=[data], layout=layout)\n",
    "plot(figure)\n"
   ]
  },
  {
   "cell_type": "code",
   "execution_count": null,
   "metadata": {},
   "outputs": [],
   "source": [
    "## selecting data for average petaining wage, willful_violators, full_time position, h1bdependent and agents\n",
    "# for those who are certified in 2016 in the state of new york\n",
    "newdata6 = pysqldf(\"select avg(prevailing_wage) AS apw, COUNT(willful_violator) AS will, \n",
    "                   COUNT(full_time_position) AS ft, \n",
    "                   COUNT(h1b_dependent) AS h1b, \n",
    "                   COUNT(agent_representing_employer) AS agent, \n",
    "                   CASE_STATUS,\n",
    "                   WORKSITE_STATE\n",
    "                   FROM data \n",
    "                   WHERE (CASE_STATUS == 'CERTIFIED')\n",
    "                   AND (pw_source_year=='2016')\n",
    "                   AND (WORKSITE_STATE=='NY')\n",
    "                   GROUP BY case_status;\"))\n",
    "\n",
    "newdata6.head()"
   ]
  },
  {
   "cell_type": "code",
   "execution_count": null,
   "metadata": {},
   "outputs": [],
   "source": [
    "# selecting data for average petaining wage, willful_violators, full_time position, h1bdependent and agents\n",
    "# for those who are denied in 2016 in the state of carlifonia\n",
    "\n",
    "q = \"\"\"SELECT round(avg(prevailing_wage), 2) AS apw, \n",
    "COUNT(willful_violator) AS will, \n",
    "COUNT(full_time_position) AS ft, \n",
    "COUNT(h1b_dependent) AS h1b, \n",
    "COUNT(agent_representing_employer) AS agent, \n",
    "CASE_STATUS,\n",
    "WORKSITE_STATE\n",
    "FROM data \n",
    "WHERE (CASE_STATUS == 'DENIED')\n",
    "AND (pw_source_year=='2016')\n",
    "AND (WORKSITE_STATE=='CA')\n",
    "GROUP BY case_status;\n",
    "\n",
    "\"\"\"\n",
    "newdata5 = pysqldf(q)\n",
    "\n",
    "newdata5.head()"
   ]
  },
  {
   "cell_type": "code",
   "execution_count": null,
   "metadata": {},
   "outputs": [],
   "source": [
    "# selecting data for average petaining wage, willful_violators, full_time position, h1bdependent and agents\n",
    "# for those who are denied in 2016 in the state of new york\n",
    "select = \"\"\"SELECT round(avg(prevailing_wage), 2) AS apw, \n",
    "COUNT(willful_violator) AS will, \n",
    "COUNT(full_time_position) AS ft, \n",
    "COUNT(h1b_dependent) AS h1b, \n",
    "COUNT(agent_representing_employer) AS agent, \n",
    "CASE_STATUS,\n",
    "WORKSITE_STATE\n",
    "FROM data \n",
    "WHERE (CASE_STATUS == 'DENIED')\n",
    "AND (pw_source_year=='2016')\n",
    "AND (WORKSITE_STATE=='NY')\n",
    "GROUP BY case_status\n",
    "\n",
    "\"\"\"\n",
    "newdata7 = pysqldf(select)\n",
    "\n",
    "newdata7"
   ]
  },
  {
   "cell_type": "code",
   "execution_count": null,
   "metadata": {},
   "outputs": [],
   "source": [
    "# a stacked bar chart to show either certified or denied based on the variables from the select statement above\n",
    "trace1 = go.Bar(\n",
    "  x = newdata4['CASE_STATUS'], \n",
    "  y = newdata4['will']\n",
    ")\n",
    "\n",
    "\n",
    "trace2 = go.Bar(\n",
    " x =newdata1 ['CASE_STATUS'], \n",
    " y = newdata6['agent']\n",
    ")\n",
    " \n",
    "trace3= go.Bar(\n",
    " x=newdata5['CASE_STATUS'],\n",
    " y= newdata5['h1b']\n",
    ")\n",
    "\n",
    "trace4=go.Bar(\n",
    "    x=newdata3['CASE_STATUS'],\n",
    "    y=newdata7['ft'])\n",
    "\n",
    "data=([trace1, trace2, trace3, trace4]) \n",
    "layout=go.Layout(title=\"average prevailing wage per state in 2016\",\n",
    "  #xaxis={'title':''}, \n",
    "                 barmode='stack')\n",
    "  #yaxis={'title':''})  \n",
    "\n",
    "figure=go.Figure(data=data,layout=layout)\n",
    "plot(figure)\n"
   ]
  },
  {
   "cell_type": "code",
   "execution_count": null,
   "metadata": {},
   "outputs": [],
   "source": []
  }
 ],
 "metadata": {
  "kernelspec": {
   "display_name": "Python 3",
   "language": "python",
   "name": "python3"
  },
  "language_info": {
   "codemirror_mode": {
    "name": "ipython",
    "version": 3
   },
   "file_extension": ".py",
   "mimetype": "text/x-python",
   "name": "python",
   "nbconvert_exporter": "python",
   "pygments_lexer": "ipython3",
   "version": "3.7.4"
  }
 },
 "nbformat": 4,
 "nbformat_minor": 2
}
